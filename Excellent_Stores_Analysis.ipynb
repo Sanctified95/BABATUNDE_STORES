{
  "cells": [
    {
      "cell_type": "code",
      "execution_count": null,
      "metadata": {
        "id": "OvGEFkl7BVSq"
      },
      "outputs": [],
      "source": [
        "import numpy as np\n",
        "\n",
        "import pandas as pd"
      ]
    },
    {
      "cell_type": "code",
      "source": [
        ""
      ],
      "metadata": {
        "id": "s4z38gz0C72o"
      },
      "execution_count": null,
      "outputs": []
    },
    {
      "cell_type": "code",
      "execution_count": null,
      "metadata": {
        "colab": {
          "base_uri": "https://localhost:8080/",
          "height": 357
        },
        "id": "9Ikbv203BVSw",
        "outputId": "6a7140aa-25ae-46c4-c109-0d6856dd534b"
      },
      "outputs": [
        {
          "output_type": "execute_result",
          "data": {
            "text/plain": [
              "  Item_ID      Store_ID       Item_Store_ID  Item_Weight Item_Sugar_Content  \\\n",
              "0   DRA12  BABATUNJI010  DRA12_BABATUNJI010         11.6          Low Sugar   \n",
              "1   DRA12  BABATUNJI013  DRA12_BABATUNJI013         11.6          Low Sugar   \n",
              "2   DRA12  BABATUNJI017  DRA12_BABATUNJI017         11.6          Low Sugar   \n",
              "3   DRA12  BABATUNJI018  DRA12_BABATUNJI018         11.6          Low Sugar   \n",
              "4   DRA12  BABATUNJI035  DRA12_BABATUNJI035         11.6    Ultra Low Sugar   \n",
              "\n",
              "   Item_Visibility    Item_Type  Item_Price  Store_Start_Year Store_Size  \\\n",
              "0         0.068535  Soft Drinks      357.54              2005        NaN   \n",
              "1         0.040912  Soft Drinks      355.79              1994       High   \n",
              "2         0.041178  Soft Drinks      350.79              2014        NaN   \n",
              "3         0.041113  Soft Drinks      355.04              2016     Medium   \n",
              "4         0.000000  Soft Drinks      354.79              2011      Small   \n",
              "\n",
              "  Store_Location_Type         Store_Type  Item_Store_Returns  \n",
              "0           Cluster 3      Grocery Store              709.08  \n",
              "1           Cluster 3  Supermarket Type1             6381.69  \n",
              "2           Cluster 2  Supermarket Type1             6381.69  \n",
              "3           Cluster 3  Supermarket Type2             2127.23  \n",
              "4           Cluster 2  Supermarket Type1             2481.77  "
            ],
            "text/html": [
              "\n",
              "  <div id=\"df-1893c919-bb9b-4ad8-95c3-389ec1ae62dd\">\n",
              "    <div class=\"colab-df-container\">\n",
              "      <div>\n",
              "<style scoped>\n",
              "    .dataframe tbody tr th:only-of-type {\n",
              "        vertical-align: middle;\n",
              "    }\n",
              "\n",
              "    .dataframe tbody tr th {\n",
              "        vertical-align: top;\n",
              "    }\n",
              "\n",
              "    .dataframe thead th {\n",
              "        text-align: right;\n",
              "    }\n",
              "</style>\n",
              "<table border=\"1\" class=\"dataframe\">\n",
              "  <thead>\n",
              "    <tr style=\"text-align: right;\">\n",
              "      <th></th>\n",
              "      <th>Item_ID</th>\n",
              "      <th>Store_ID</th>\n",
              "      <th>Item_Store_ID</th>\n",
              "      <th>Item_Weight</th>\n",
              "      <th>Item_Sugar_Content</th>\n",
              "      <th>Item_Visibility</th>\n",
              "      <th>Item_Type</th>\n",
              "      <th>Item_Price</th>\n",
              "      <th>Store_Start_Year</th>\n",
              "      <th>Store_Size</th>\n",
              "      <th>Store_Location_Type</th>\n",
              "      <th>Store_Type</th>\n",
              "      <th>Item_Store_Returns</th>\n",
              "    </tr>\n",
              "  </thead>\n",
              "  <tbody>\n",
              "    <tr>\n",
              "      <th>0</th>\n",
              "      <td>DRA12</td>\n",
              "      <td>BABATUNJI010</td>\n",
              "      <td>DRA12_BABATUNJI010</td>\n",
              "      <td>11.6</td>\n",
              "      <td>Low Sugar</td>\n",
              "      <td>0.068535</td>\n",
              "      <td>Soft Drinks</td>\n",
              "      <td>357.54</td>\n",
              "      <td>2005</td>\n",
              "      <td>NaN</td>\n",
              "      <td>Cluster 3</td>\n",
              "      <td>Grocery Store</td>\n",
              "      <td>709.08</td>\n",
              "    </tr>\n",
              "    <tr>\n",
              "      <th>1</th>\n",
              "      <td>DRA12</td>\n",
              "      <td>BABATUNJI013</td>\n",
              "      <td>DRA12_BABATUNJI013</td>\n",
              "      <td>11.6</td>\n",
              "      <td>Low Sugar</td>\n",
              "      <td>0.040912</td>\n",
              "      <td>Soft Drinks</td>\n",
              "      <td>355.79</td>\n",
              "      <td>1994</td>\n",
              "      <td>High</td>\n",
              "      <td>Cluster 3</td>\n",
              "      <td>Supermarket Type1</td>\n",
              "      <td>6381.69</td>\n",
              "    </tr>\n",
              "    <tr>\n",
              "      <th>2</th>\n",
              "      <td>DRA12</td>\n",
              "      <td>BABATUNJI017</td>\n",
              "      <td>DRA12_BABATUNJI017</td>\n",
              "      <td>11.6</td>\n",
              "      <td>Low Sugar</td>\n",
              "      <td>0.041178</td>\n",
              "      <td>Soft Drinks</td>\n",
              "      <td>350.79</td>\n",
              "      <td>2014</td>\n",
              "      <td>NaN</td>\n",
              "      <td>Cluster 2</td>\n",
              "      <td>Supermarket Type1</td>\n",
              "      <td>6381.69</td>\n",
              "    </tr>\n",
              "    <tr>\n",
              "      <th>3</th>\n",
              "      <td>DRA12</td>\n",
              "      <td>BABATUNJI018</td>\n",
              "      <td>DRA12_BABATUNJI018</td>\n",
              "      <td>11.6</td>\n",
              "      <td>Low Sugar</td>\n",
              "      <td>0.041113</td>\n",
              "      <td>Soft Drinks</td>\n",
              "      <td>355.04</td>\n",
              "      <td>2016</td>\n",
              "      <td>Medium</td>\n",
              "      <td>Cluster 3</td>\n",
              "      <td>Supermarket Type2</td>\n",
              "      <td>2127.23</td>\n",
              "    </tr>\n",
              "    <tr>\n",
              "      <th>4</th>\n",
              "      <td>DRA12</td>\n",
              "      <td>BABATUNJI035</td>\n",
              "      <td>DRA12_BABATUNJI035</td>\n",
              "      <td>11.6</td>\n",
              "      <td>Ultra Low Sugar</td>\n",
              "      <td>0.000000</td>\n",
              "      <td>Soft Drinks</td>\n",
              "      <td>354.79</td>\n",
              "      <td>2011</td>\n",
              "      <td>Small</td>\n",
              "      <td>Cluster 2</td>\n",
              "      <td>Supermarket Type1</td>\n",
              "      <td>2481.77</td>\n",
              "    </tr>\n",
              "  </tbody>\n",
              "</table>\n",
              "</div>\n",
              "      <button class=\"colab-df-convert\" onclick=\"convertToInteractive('df-1893c919-bb9b-4ad8-95c3-389ec1ae62dd')\"\n",
              "              title=\"Convert this dataframe to an interactive table.\"\n",
              "              style=\"display:none;\">\n",
              "        \n",
              "  <svg xmlns=\"http://www.w3.org/2000/svg\" height=\"24px\"viewBox=\"0 0 24 24\"\n",
              "       width=\"24px\">\n",
              "    <path d=\"M0 0h24v24H0V0z\" fill=\"none\"/>\n",
              "    <path d=\"M18.56 5.44l.94 2.06.94-2.06 2.06-.94-2.06-.94-.94-2.06-.94 2.06-2.06.94zm-11 1L8.5 8.5l.94-2.06 2.06-.94-2.06-.94L8.5 2.5l-.94 2.06-2.06.94zm10 10l.94 2.06.94-2.06 2.06-.94-2.06-.94-.94-2.06-.94 2.06-2.06.94z\"/><path d=\"M17.41 7.96l-1.37-1.37c-.4-.4-.92-.59-1.43-.59-.52 0-1.04.2-1.43.59L10.3 9.45l-7.72 7.72c-.78.78-.78 2.05 0 2.83L4 21.41c.39.39.9.59 1.41.59.51 0 1.02-.2 1.41-.59l7.78-7.78 2.81-2.81c.8-.78.8-2.07 0-2.86zM5.41 20L4 18.59l7.72-7.72 1.47 1.35L5.41 20z\"/>\n",
              "  </svg>\n",
              "      </button>\n",
              "      \n",
              "  <style>\n",
              "    .colab-df-container {\n",
              "      display:flex;\n",
              "      flex-wrap:wrap;\n",
              "      gap: 12px;\n",
              "    }\n",
              "\n",
              "    .colab-df-convert {\n",
              "      background-color: #E8F0FE;\n",
              "      border: none;\n",
              "      border-radius: 50%;\n",
              "      cursor: pointer;\n",
              "      display: none;\n",
              "      fill: #1967D2;\n",
              "      height: 32px;\n",
              "      padding: 0 0 0 0;\n",
              "      width: 32px;\n",
              "    }\n",
              "\n",
              "    .colab-df-convert:hover {\n",
              "      background-color: #E2EBFA;\n",
              "      box-shadow: 0px 1px 2px rgba(60, 64, 67, 0.3), 0px 1px 3px 1px rgba(60, 64, 67, 0.15);\n",
              "      fill: #174EA6;\n",
              "    }\n",
              "\n",
              "    [theme=dark] .colab-df-convert {\n",
              "      background-color: #3B4455;\n",
              "      fill: #D2E3FC;\n",
              "    }\n",
              "\n",
              "    [theme=dark] .colab-df-convert:hover {\n",
              "      background-color: #434B5C;\n",
              "      box-shadow: 0px 1px 3px 1px rgba(0, 0, 0, 0.15);\n",
              "      filter: drop-shadow(0px 1px 2px rgba(0, 0, 0, 0.3));\n",
              "      fill: #FFFFFF;\n",
              "    }\n",
              "  </style>\n",
              "\n",
              "      <script>\n",
              "        const buttonEl =\n",
              "          document.querySelector('#df-1893c919-bb9b-4ad8-95c3-389ec1ae62dd button.colab-df-convert');\n",
              "        buttonEl.style.display =\n",
              "          google.colab.kernel.accessAllowed ? 'block' : 'none';\n",
              "\n",
              "        async function convertToInteractive(key) {\n",
              "          const element = document.querySelector('#df-1893c919-bb9b-4ad8-95c3-389ec1ae62dd');\n",
              "          const dataTable =\n",
              "            await google.colab.kernel.invokeFunction('convertToInteractive',\n",
              "                                                     [key], {});\n",
              "          if (!dataTable) return;\n",
              "\n",
              "          const docLinkHtml = 'Like what you see? Visit the ' +\n",
              "            '<a target=\"_blank\" href=https://colab.research.google.com/notebooks/data_table.ipynb>data table notebook</a>'\n",
              "            + ' to learn more about interactive tables.';\n",
              "          element.innerHTML = '';\n",
              "          dataTable['output_type'] = 'display_data';\n",
              "          await google.colab.output.renderOutput(dataTable, element);\n",
              "          const docLink = document.createElement('div');\n",
              "          docLink.innerHTML = docLinkHtml;\n",
              "          element.appendChild(docLink);\n",
              "        }\n",
              "      </script>\n",
              "    </div>\n",
              "  </div>\n",
              "  "
            ]
          },
          "metadata": {},
          "execution_count": 2
        }
      ],
      "source": [
        "excel = pd.read_csv('excellent.csv')\n",
        "excel.head()"
      ]
    },
    {
      "cell_type": "code",
      "execution_count": null,
      "metadata": {
        "colab": {
          "base_uri": "https://localhost:8080/"
        },
        "id": "00NLC5R7BVSy",
        "outputId": "e6576b2a-2a28-443a-83a1-e621c418a552"
      },
      "outputs": [
        {
          "output_type": "execute_result",
          "data": {
            "text/plain": [
              "Item_ID                 object\n",
              "Store_ID                object\n",
              "Item_Store_ID           object\n",
              "Item_Weight            float64\n",
              "Item_Sugar_Content      object\n",
              "Item_Visibility        float64\n",
              "Item_Type               object\n",
              "Item_Price             float64\n",
              "Store_Start_Year         int64\n",
              "Store_Size              object\n",
              "Store_Location_Type     object\n",
              "Store_Type              object\n",
              "Item_Store_Returns     float64\n",
              "dtype: object"
            ]
          },
          "metadata": {},
          "execution_count": 3
        }
      ],
      "source": [
        "excel.dtypes"
      ]
    },
    {
      "cell_type": "code",
      "execution_count": null,
      "metadata": {
        "colab": {
          "base_uri": "https://localhost:8080/"
        },
        "id": "zird8CuoBVSz",
        "outputId": "cb7524c3-cc61-4566-e557-cbabc7ccded4"
      },
      "outputs": [
        {
          "output_type": "execute_result",
          "data": {
            "text/plain": [
              "Item_ID                   0\n",
              "Store_ID                  0\n",
              "Item_Store_ID             0\n",
              "Item_Weight             802\n",
              "Item_Sugar_Content        0\n",
              "Item_Visibility           0\n",
              "Item_Type                 0\n",
              "Item_Price                0\n",
              "Store_Start_Year          0\n",
              "Store_Size             1450\n",
              "Store_Location_Type       0\n",
              "Store_Type                0\n",
              "Item_Store_Returns        0\n",
              "dtype: int64"
            ]
          },
          "metadata": {},
          "execution_count": 4
        }
      ],
      "source": [
        " excel.isnull().sum()"
      ]
    },
    {
      "cell_type": "code",
      "execution_count": null,
      "metadata": {
        "colab": {
          "base_uri": "https://localhost:8080/"
        },
        "id": "mXLN6TPABVS0",
        "outputId": "42dc04ea-e6b0-42a7-ee36-f9cc8bbcd130"
      },
      "outputs": [
        {
          "output_type": "stream",
          "name": "stdout",
          "text": [
            "<class 'pandas.core.frame.DataFrame'>\n",
            "RangeIndex: 4990 entries, 0 to 4989\n",
            "Data columns (total 13 columns):\n",
            " #   Column               Non-Null Count  Dtype  \n",
            "---  ------               --------------  -----  \n",
            " 0   Item_ID              4990 non-null   object \n",
            " 1   Store_ID             4990 non-null   object \n",
            " 2   Item_Store_ID        4990 non-null   object \n",
            " 3   Item_Weight          4188 non-null   float64\n",
            " 4   Item_Sugar_Content   4990 non-null   object \n",
            " 5   Item_Visibility      4990 non-null   float64\n",
            " 6   Item_Type            4990 non-null   object \n",
            " 7   Item_Price           4990 non-null   float64\n",
            " 8   Store_Start_Year     4990 non-null   int64  \n",
            " 9   Store_Size           3540 non-null   object \n",
            " 10  Store_Location_Type  4990 non-null   object \n",
            " 11  Store_Type           4990 non-null   object \n",
            " 12  Item_Store_Returns   4990 non-null   float64\n",
            "dtypes: float64(4), int64(1), object(8)\n",
            "memory usage: 506.9+ KB\n"
          ]
        }
      ],
      "source": [
        "excel.info()"
      ]
    },
    {
      "cell_type": "code",
      "execution_count": null,
      "metadata": {
        "id": "BreynVjkBVS1"
      },
      "outputs": [],
      "source": [
        ""
      ]
    },
    {
      "cell_type": "code",
      "execution_count": null,
      "metadata": {
        "id": "tgNF5Mh6BVS1"
      },
      "outputs": [],
      "source": [
        "excel['Item_Weight'].fillna(value = round(excel['Item_Weight'].mean(), 1), inplace=True)"
      ]
    },
    {
      "cell_type": "code",
      "execution_count": null,
      "metadata": {
        "id": "6MEIoQjNBVS3"
      },
      "outputs": [],
      "source": [
        "  excel['Store_Size'].fillna(value=excel['Store_Size'].mode()[0], inplace=True)"
      ]
    },
    {
      "cell_type": "code",
      "execution_count": null,
      "metadata": {
        "colab": {
          "base_uri": "https://localhost:8080/"
        },
        "id": "VJXxyzadBVS4",
        "outputId": "cb184211-0365-49de-a7a9-98e22a941601"
      },
      "outputs": [
        {
          "output_type": "execute_result",
          "data": {
            "text/plain": [
              "Item_ID                0\n",
              "Store_ID               0\n",
              "Item_Store_ID          0\n",
              "Item_Weight            0\n",
              "Item_Sugar_Content     0\n",
              "Item_Visibility        0\n",
              "Item_Type              0\n",
              "Item_Price             0\n",
              "Store_Start_Year       0\n",
              "Store_Size             0\n",
              "Store_Location_Type    0\n",
              "Store_Type             0\n",
              "Item_Store_Returns     0\n",
              "dtype: int64"
            ]
          },
          "metadata": {},
          "execution_count": 8
        }
      ],
      "source": [
        "excel.isnull().sum()"
      ]
    },
    {
      "cell_type": "code",
      "execution_count": null,
      "metadata": {
        "colab": {
          "base_uri": "https://localhost:8080/",
          "height": 357
        },
        "id": "VcpkZglvBVS5",
        "outputId": "d0f6b6fd-8427-49db-e3d1-d2e73fe6cbe2"
      },
      "outputs": [
        {
          "output_type": "execute_result",
          "data": {
            "text/plain": [
              "  Item_ID      Store_ID       Item_Store_ID  Item_Weight Item_Sugar_Content  \\\n",
              "0   DRA12  BABATUNJI010  DRA12_BABATUNJI010         11.6          Low Sugar   \n",
              "1   DRA12  BABATUNJI013  DRA12_BABATUNJI013         11.6          Low Sugar   \n",
              "2   DRA12  BABATUNJI017  DRA12_BABATUNJI017         11.6          Low Sugar   \n",
              "3   DRA12  BABATUNJI018  DRA12_BABATUNJI018         11.6          Low Sugar   \n",
              "4   DRA12  BABATUNJI035  DRA12_BABATUNJI035         11.6    Ultra Low Sugar   \n",
              "\n",
              "   Item_Visibility    Item_Type  Item_Price  Store_Start_Year Store_Size  \\\n",
              "0         0.068535  Soft Drinks      357.54              2005     Medium   \n",
              "1         0.040912  Soft Drinks      355.79              1994       High   \n",
              "2         0.041178  Soft Drinks      350.79              2014     Medium   \n",
              "3         0.041113  Soft Drinks      355.04              2016     Medium   \n",
              "4         0.000000  Soft Drinks      354.79              2011      Small   \n",
              "\n",
              "  Store_Location_Type         Store_Type  Item_Store_Returns  profit_index  \n",
              "0           Cluster 3      Grocery Store              709.08        351.54  \n",
              "1           Cluster 3  Supermarket Type1             6381.69       6025.90  \n",
              "2           Cluster 2  Supermarket Type1             6381.69       6030.90  \n",
              "3           Cluster 3  Supermarket Type2             2127.23       1772.19  \n",
              "4           Cluster 2  Supermarket Type1             2481.77       2126.98  "
            ],
            "text/html": [
              "\n",
              "  <div id=\"df-4f6eb2b3-8415-46c3-beb7-54f65caf3ead\">\n",
              "    <div class=\"colab-df-container\">\n",
              "      <div>\n",
              "<style scoped>\n",
              "    .dataframe tbody tr th:only-of-type {\n",
              "        vertical-align: middle;\n",
              "    }\n",
              "\n",
              "    .dataframe tbody tr th {\n",
              "        vertical-align: top;\n",
              "    }\n",
              "\n",
              "    .dataframe thead th {\n",
              "        text-align: right;\n",
              "    }\n",
              "</style>\n",
              "<table border=\"1\" class=\"dataframe\">\n",
              "  <thead>\n",
              "    <tr style=\"text-align: right;\">\n",
              "      <th></th>\n",
              "      <th>Item_ID</th>\n",
              "      <th>Store_ID</th>\n",
              "      <th>Item_Store_ID</th>\n",
              "      <th>Item_Weight</th>\n",
              "      <th>Item_Sugar_Content</th>\n",
              "      <th>Item_Visibility</th>\n",
              "      <th>Item_Type</th>\n",
              "      <th>Item_Price</th>\n",
              "      <th>Store_Start_Year</th>\n",
              "      <th>Store_Size</th>\n",
              "      <th>Store_Location_Type</th>\n",
              "      <th>Store_Type</th>\n",
              "      <th>Item_Store_Returns</th>\n",
              "      <th>profit_index</th>\n",
              "    </tr>\n",
              "  </thead>\n",
              "  <tbody>\n",
              "    <tr>\n",
              "      <th>0</th>\n",
              "      <td>DRA12</td>\n",
              "      <td>BABATUNJI010</td>\n",
              "      <td>DRA12_BABATUNJI010</td>\n",
              "      <td>11.6</td>\n",
              "      <td>Low Sugar</td>\n",
              "      <td>0.068535</td>\n",
              "      <td>Soft Drinks</td>\n",
              "      <td>357.54</td>\n",
              "      <td>2005</td>\n",
              "      <td>Medium</td>\n",
              "      <td>Cluster 3</td>\n",
              "      <td>Grocery Store</td>\n",
              "      <td>709.08</td>\n",
              "      <td>351.54</td>\n",
              "    </tr>\n",
              "    <tr>\n",
              "      <th>1</th>\n",
              "      <td>DRA12</td>\n",
              "      <td>BABATUNJI013</td>\n",
              "      <td>DRA12_BABATUNJI013</td>\n",
              "      <td>11.6</td>\n",
              "      <td>Low Sugar</td>\n",
              "      <td>0.040912</td>\n",
              "      <td>Soft Drinks</td>\n",
              "      <td>355.79</td>\n",
              "      <td>1994</td>\n",
              "      <td>High</td>\n",
              "      <td>Cluster 3</td>\n",
              "      <td>Supermarket Type1</td>\n",
              "      <td>6381.69</td>\n",
              "      <td>6025.90</td>\n",
              "    </tr>\n",
              "    <tr>\n",
              "      <th>2</th>\n",
              "      <td>DRA12</td>\n",
              "      <td>BABATUNJI017</td>\n",
              "      <td>DRA12_BABATUNJI017</td>\n",
              "      <td>11.6</td>\n",
              "      <td>Low Sugar</td>\n",
              "      <td>0.041178</td>\n",
              "      <td>Soft Drinks</td>\n",
              "      <td>350.79</td>\n",
              "      <td>2014</td>\n",
              "      <td>Medium</td>\n",
              "      <td>Cluster 2</td>\n",
              "      <td>Supermarket Type1</td>\n",
              "      <td>6381.69</td>\n",
              "      <td>6030.90</td>\n",
              "    </tr>\n",
              "    <tr>\n",
              "      <th>3</th>\n",
              "      <td>DRA12</td>\n",
              "      <td>BABATUNJI018</td>\n",
              "      <td>DRA12_BABATUNJI018</td>\n",
              "      <td>11.6</td>\n",
              "      <td>Low Sugar</td>\n",
              "      <td>0.041113</td>\n",
              "      <td>Soft Drinks</td>\n",
              "      <td>355.04</td>\n",
              "      <td>2016</td>\n",
              "      <td>Medium</td>\n",
              "      <td>Cluster 3</td>\n",
              "      <td>Supermarket Type2</td>\n",
              "      <td>2127.23</td>\n",
              "      <td>1772.19</td>\n",
              "    </tr>\n",
              "    <tr>\n",
              "      <th>4</th>\n",
              "      <td>DRA12</td>\n",
              "      <td>BABATUNJI035</td>\n",
              "      <td>DRA12_BABATUNJI035</td>\n",
              "      <td>11.6</td>\n",
              "      <td>Ultra Low Sugar</td>\n",
              "      <td>0.000000</td>\n",
              "      <td>Soft Drinks</td>\n",
              "      <td>354.79</td>\n",
              "      <td>2011</td>\n",
              "      <td>Small</td>\n",
              "      <td>Cluster 2</td>\n",
              "      <td>Supermarket Type1</td>\n",
              "      <td>2481.77</td>\n",
              "      <td>2126.98</td>\n",
              "    </tr>\n",
              "  </tbody>\n",
              "</table>\n",
              "</div>\n",
              "      <button class=\"colab-df-convert\" onclick=\"convertToInteractive('df-4f6eb2b3-8415-46c3-beb7-54f65caf3ead')\"\n",
              "              title=\"Convert this dataframe to an interactive table.\"\n",
              "              style=\"display:none;\">\n",
              "        \n",
              "  <svg xmlns=\"http://www.w3.org/2000/svg\" height=\"24px\"viewBox=\"0 0 24 24\"\n",
              "       width=\"24px\">\n",
              "    <path d=\"M0 0h24v24H0V0z\" fill=\"none\"/>\n",
              "    <path d=\"M18.56 5.44l.94 2.06.94-2.06 2.06-.94-2.06-.94-.94-2.06-.94 2.06-2.06.94zm-11 1L8.5 8.5l.94-2.06 2.06-.94-2.06-.94L8.5 2.5l-.94 2.06-2.06.94zm10 10l.94 2.06.94-2.06 2.06-.94-2.06-.94-.94-2.06-.94 2.06-2.06.94z\"/><path d=\"M17.41 7.96l-1.37-1.37c-.4-.4-.92-.59-1.43-.59-.52 0-1.04.2-1.43.59L10.3 9.45l-7.72 7.72c-.78.78-.78 2.05 0 2.83L4 21.41c.39.39.9.59 1.41.59.51 0 1.02-.2 1.41-.59l7.78-7.78 2.81-2.81c.8-.78.8-2.07 0-2.86zM5.41 20L4 18.59l7.72-7.72 1.47 1.35L5.41 20z\"/>\n",
              "  </svg>\n",
              "      </button>\n",
              "      \n",
              "  <style>\n",
              "    .colab-df-container {\n",
              "      display:flex;\n",
              "      flex-wrap:wrap;\n",
              "      gap: 12px;\n",
              "    }\n",
              "\n",
              "    .colab-df-convert {\n",
              "      background-color: #E8F0FE;\n",
              "      border: none;\n",
              "      border-radius: 50%;\n",
              "      cursor: pointer;\n",
              "      display: none;\n",
              "      fill: #1967D2;\n",
              "      height: 32px;\n",
              "      padding: 0 0 0 0;\n",
              "      width: 32px;\n",
              "    }\n",
              "\n",
              "    .colab-df-convert:hover {\n",
              "      background-color: #E2EBFA;\n",
              "      box-shadow: 0px 1px 2px rgba(60, 64, 67, 0.3), 0px 1px 3px 1px rgba(60, 64, 67, 0.15);\n",
              "      fill: #174EA6;\n",
              "    }\n",
              "\n",
              "    [theme=dark] .colab-df-convert {\n",
              "      background-color: #3B4455;\n",
              "      fill: #D2E3FC;\n",
              "    }\n",
              "\n",
              "    [theme=dark] .colab-df-convert:hover {\n",
              "      background-color: #434B5C;\n",
              "      box-shadow: 0px 1px 3px 1px rgba(0, 0, 0, 0.15);\n",
              "      filter: drop-shadow(0px 1px 2px rgba(0, 0, 0, 0.3));\n",
              "      fill: #FFFFFF;\n",
              "    }\n",
              "  </style>\n",
              "\n",
              "      <script>\n",
              "        const buttonEl =\n",
              "          document.querySelector('#df-4f6eb2b3-8415-46c3-beb7-54f65caf3ead button.colab-df-convert');\n",
              "        buttonEl.style.display =\n",
              "          google.colab.kernel.accessAllowed ? 'block' : 'none';\n",
              "\n",
              "        async function convertToInteractive(key) {\n",
              "          const element = document.querySelector('#df-4f6eb2b3-8415-46c3-beb7-54f65caf3ead');\n",
              "          const dataTable =\n",
              "            await google.colab.kernel.invokeFunction('convertToInteractive',\n",
              "                                                     [key], {});\n",
              "          if (!dataTable) return;\n",
              "\n",
              "          const docLinkHtml = 'Like what you see? Visit the ' +\n",
              "            '<a target=\"_blank\" href=https://colab.research.google.com/notebooks/data_table.ipynb>data table notebook</a>'\n",
              "            + ' to learn more about interactive tables.';\n",
              "          element.innerHTML = '';\n",
              "          dataTable['output_type'] = 'display_data';\n",
              "          await google.colab.output.renderOutput(dataTable, element);\n",
              "          const docLink = document.createElement('div');\n",
              "          docLink.innerHTML = docLinkHtml;\n",
              "          element.appendChild(docLink);\n",
              "        }\n",
              "      </script>\n",
              "    </div>\n",
              "  </div>\n",
              "  "
            ]
          },
          "metadata": {},
          "execution_count": 9
        }
      ],
      "source": [
        "excel['profit_index'] = excel['Item_Store_Returns'] - excel['Item_Price']\n",
        "excel.head()"
      ]
    },
    {
      "cell_type": "code",
      "execution_count": null,
      "metadata": {
        "colab": {
          "base_uri": "https://localhost:8080/"
        },
        "id": "N4ez62DlBVS6",
        "outputId": "a7d73d02-b2d7-43da-9834-5e5715f33a7a"
      },
      "outputs": [
        {
          "output_type": "stream",
          "name": "stdout",
          "text": [
            "The Excellent Store comprises of 10 different stores, each spread across 3  different cluster locations\n"
          ]
        }
      ],
      "source": [
        "stores =excel['Store_ID'].nunique()\n",
        "location = excel['Store_Location_Type'].nunique()\n",
        "print(\"The Excellent Store comprises of\", stores, \"different stores, each spread across\", location, \" different cluster locations\")\n"
      ]
    },
    {
      "cell_type": "code",
      "execution_count": null,
      "metadata": {
        "colab": {
          "base_uri": "https://localhost:8080/"
        },
        "id": "vpHJ72VuBVS7",
        "outputId": "e59424ad-52cb-4800-dfbe-7e473271ec08"
      },
      "outputs": [
        {
          "output_type": "stream",
          "name": "stdout",
          "text": [
            "Store_Location_Type\n",
            "Cluster 1     6674914.28\n",
            "Cluster 2    11273169.03\n",
            "Cluster 3    10553381.37\n",
            "Name: profit_index, dtype: float64\n",
            "The highest profit making cluster is Cluster 2\n"
          ]
        }
      ],
      "source": [
        "#Below is a breakdown of the total profits from each cluster\n",
        "Clust = excel.groupby('Store_Location_Type')['profit_index'].sum()\n",
        "print(Clust)\n",
        "\n",
        "print('The highest profit making cluster is', Clust.idxmax())"
      ]
    },
    {
      "cell_type": "code",
      "execution_count": null,
      "metadata": {
        "colab": {
          "base_uri": "https://localhost:8080/"
        },
        "id": "7WBt-UylBVS8",
        "outputId": "f2a24b90-485d-47cb-948a-33dcea73e8cb"
      },
      "outputs": [
        {
          "output_type": "stream",
          "name": "stdout",
          "text": [
            "Store_ID\n",
            "BABATUNJI010     136404.22\n",
            "BABATUNJI013    2255853.43\n",
            "BABATUNJI017    4110849.15\n",
            "BABATUNJI018    2577461.07\n",
            "BABATUNJI019     208344.10\n",
            "BABATUNJI027    5583662.65\n",
            "BABATUNJI035    3821551.36\n",
            "BABATUNJI045    3340768.52\n",
            "BABATUNJI046    2764376.52\n",
            "BABATUNJI049    3702193.66\n",
            "Name: profit_index, dtype: float64\n"
          ]
        }
      ],
      "source": [
        "# All stores and their profit index\n",
        "print(excel.groupby('Store_ID')['profit_index'].sum().round(2))"
      ]
    },
    {
      "cell_type": "code",
      "execution_count": null,
      "metadata": {
        "colab": {
          "base_uri": "https://localhost:8080/"
        },
        "id": "RftlYDODBVS9",
        "outputId": "6ce48a74-7b4b-4058-dcb1-4582b7406f44"
      },
      "outputs": [
        {
          "output_type": "stream",
          "name": "stdout",
          "text": [
            "             count unique                top freq\n",
            "Store_ID                                         \n",
            "BABATUNJI010   384      1      Grocery Store  384\n",
            "BABATUNJI013   594      1  Supermarket Type1  594\n",
            "BABATUNJI017   583      1  Supermarket Type1  583\n",
            "BABATUNJI018   500      1  Supermarket Type2  500\n",
            "BABATUNJI019   340      1      Grocery Store  340\n",
            "BABATUNJI027   462      1  Supermarket Type3  462\n",
            "BABATUNJI035   515      1  Supermarket Type1  515\n",
            "BABATUNJI045   483      1  Supermarket Type1  483\n",
            "BABATUNJI046   509      1  Supermarket Type1  509\n",
            "BABATUNJI049   620      1  Supermarket Type1  620\n",
            "             count unique        top freq\n",
            "Store_ID                                 \n",
            "BABATUNJI010   384      1  Cluster 3  384\n",
            "BABATUNJI013   594      1  Cluster 3  594\n",
            "BABATUNJI017   583      1  Cluster 2  583\n",
            "BABATUNJI018   500      1  Cluster 3  500\n",
            "BABATUNJI019   340      1  Cluster 1  340\n",
            "BABATUNJI027   462      1  Cluster 3  462\n",
            "BABATUNJI035   515      1  Cluster 2  515\n",
            "BABATUNJI045   483      1  Cluster 2  483\n",
            "BABATUNJI046   509      1  Cluster 1  509\n",
            "BABATUNJI049   620      1  Cluster 1  620\n"
          ]
        }
      ],
      "source": [
        " print(excel.groupby('Store_ID')['Store_Type'].describe())\n",
        " print(excel.groupby('Store_ID')['Store_Location_Type'].describe())"
      ]
    },
    {
      "cell_type": "code",
      "source": [
        "excel.groupby('Item_Type')['Item_ID'].describe()"
      ],
      "metadata": {
        "colab": {
          "base_uri": "https://localhost:8080/",
          "height": 582
        },
        "id": "_7HXCsxQerYX",
        "outputId": "18b9ad2d-c7ff-430a-bf5c-57a35ef6da71"
      },
      "execution_count": null,
      "outputs": [
        {
          "output_type": "execute_result",
          "data": {
            "text/plain": [
              "                      count unique    top freq\n",
              "Item_Type                                     \n",
              "Baking Goods            344    110  FDR48    8\n",
              "Breads                  137     44  FDU23    8\n",
              "Breakfast                66     19  FDK25    6\n",
              "Canned                  376    110  FDY49    8\n",
              "Dairy                   350    107  FDH27    8\n",
              "Frozen Foods            457    141  FDI41    8\n",
              "Fruits and Vegetables   747    212  FDT55    8\n",
              "Hard Drinks             134     36  DRF23    8\n",
              "Health and Hygiene      307     91  NCX29    8\n",
              "Household               567    162  NCC18    8\n",
              "Meat                    264     75  FDR15    7\n",
              "Others                  100     27  NCL31    9\n",
              "Seafood                  41      9  FDG33    9\n",
              "Snack Foods             758    207  FDZ33    8\n",
              "Soft Drinks             261     74  DRE49    9\n",
              "Starchy Foods            81     27  FDE11    6"
            ],
            "text/html": [
              "\n",
              "  <div id=\"df-936d8f0c-d317-4cda-b4b5-41f83bff4e20\">\n",
              "    <div class=\"colab-df-container\">\n",
              "      <div>\n",
              "<style scoped>\n",
              "    .dataframe tbody tr th:only-of-type {\n",
              "        vertical-align: middle;\n",
              "    }\n",
              "\n",
              "    .dataframe tbody tr th {\n",
              "        vertical-align: top;\n",
              "    }\n",
              "\n",
              "    .dataframe thead th {\n",
              "        text-align: right;\n",
              "    }\n",
              "</style>\n",
              "<table border=\"1\" class=\"dataframe\">\n",
              "  <thead>\n",
              "    <tr style=\"text-align: right;\">\n",
              "      <th></th>\n",
              "      <th>count</th>\n",
              "      <th>unique</th>\n",
              "      <th>top</th>\n",
              "      <th>freq</th>\n",
              "    </tr>\n",
              "    <tr>\n",
              "      <th>Item_Type</th>\n",
              "      <th></th>\n",
              "      <th></th>\n",
              "      <th></th>\n",
              "      <th></th>\n",
              "    </tr>\n",
              "  </thead>\n",
              "  <tbody>\n",
              "    <tr>\n",
              "      <th>Baking Goods</th>\n",
              "      <td>344</td>\n",
              "      <td>110</td>\n",
              "      <td>FDR48</td>\n",
              "      <td>8</td>\n",
              "    </tr>\n",
              "    <tr>\n",
              "      <th>Breads</th>\n",
              "      <td>137</td>\n",
              "      <td>44</td>\n",
              "      <td>FDU23</td>\n",
              "      <td>8</td>\n",
              "    </tr>\n",
              "    <tr>\n",
              "      <th>Breakfast</th>\n",
              "      <td>66</td>\n",
              "      <td>19</td>\n",
              "      <td>FDK25</td>\n",
              "      <td>6</td>\n",
              "    </tr>\n",
              "    <tr>\n",
              "      <th>Canned</th>\n",
              "      <td>376</td>\n",
              "      <td>110</td>\n",
              "      <td>FDY49</td>\n",
              "      <td>8</td>\n",
              "    </tr>\n",
              "    <tr>\n",
              "      <th>Dairy</th>\n",
              "      <td>350</td>\n",
              "      <td>107</td>\n",
              "      <td>FDH27</td>\n",
              "      <td>8</td>\n",
              "    </tr>\n",
              "    <tr>\n",
              "      <th>Frozen Foods</th>\n",
              "      <td>457</td>\n",
              "      <td>141</td>\n",
              "      <td>FDI41</td>\n",
              "      <td>8</td>\n",
              "    </tr>\n",
              "    <tr>\n",
              "      <th>Fruits and Vegetables</th>\n",
              "      <td>747</td>\n",
              "      <td>212</td>\n",
              "      <td>FDT55</td>\n",
              "      <td>8</td>\n",
              "    </tr>\n",
              "    <tr>\n",
              "      <th>Hard Drinks</th>\n",
              "      <td>134</td>\n",
              "      <td>36</td>\n",
              "      <td>DRF23</td>\n",
              "      <td>8</td>\n",
              "    </tr>\n",
              "    <tr>\n",
              "      <th>Health and Hygiene</th>\n",
              "      <td>307</td>\n",
              "      <td>91</td>\n",
              "      <td>NCX29</td>\n",
              "      <td>8</td>\n",
              "    </tr>\n",
              "    <tr>\n",
              "      <th>Household</th>\n",
              "      <td>567</td>\n",
              "      <td>162</td>\n",
              "      <td>NCC18</td>\n",
              "      <td>8</td>\n",
              "    </tr>\n",
              "    <tr>\n",
              "      <th>Meat</th>\n",
              "      <td>264</td>\n",
              "      <td>75</td>\n",
              "      <td>FDR15</td>\n",
              "      <td>7</td>\n",
              "    </tr>\n",
              "    <tr>\n",
              "      <th>Others</th>\n",
              "      <td>100</td>\n",
              "      <td>27</td>\n",
              "      <td>NCL31</td>\n",
              "      <td>9</td>\n",
              "    </tr>\n",
              "    <tr>\n",
              "      <th>Seafood</th>\n",
              "      <td>41</td>\n",
              "      <td>9</td>\n",
              "      <td>FDG33</td>\n",
              "      <td>9</td>\n",
              "    </tr>\n",
              "    <tr>\n",
              "      <th>Snack Foods</th>\n",
              "      <td>758</td>\n",
              "      <td>207</td>\n",
              "      <td>FDZ33</td>\n",
              "      <td>8</td>\n",
              "    </tr>\n",
              "    <tr>\n",
              "      <th>Soft Drinks</th>\n",
              "      <td>261</td>\n",
              "      <td>74</td>\n",
              "      <td>DRE49</td>\n",
              "      <td>9</td>\n",
              "    </tr>\n",
              "    <tr>\n",
              "      <th>Starchy Foods</th>\n",
              "      <td>81</td>\n",
              "      <td>27</td>\n",
              "      <td>FDE11</td>\n",
              "      <td>6</td>\n",
              "    </tr>\n",
              "  </tbody>\n",
              "</table>\n",
              "</div>\n",
              "      <button class=\"colab-df-convert\" onclick=\"convertToInteractive('df-936d8f0c-d317-4cda-b4b5-41f83bff4e20')\"\n",
              "              title=\"Convert this dataframe to an interactive table.\"\n",
              "              style=\"display:none;\">\n",
              "        \n",
              "  <svg xmlns=\"http://www.w3.org/2000/svg\" height=\"24px\"viewBox=\"0 0 24 24\"\n",
              "       width=\"24px\">\n",
              "    <path d=\"M0 0h24v24H0V0z\" fill=\"none\"/>\n",
              "    <path d=\"M18.56 5.44l.94 2.06.94-2.06 2.06-.94-2.06-.94-.94-2.06-.94 2.06-2.06.94zm-11 1L8.5 8.5l.94-2.06 2.06-.94-2.06-.94L8.5 2.5l-.94 2.06-2.06.94zm10 10l.94 2.06.94-2.06 2.06-.94-2.06-.94-.94-2.06-.94 2.06-2.06.94z\"/><path d=\"M17.41 7.96l-1.37-1.37c-.4-.4-.92-.59-1.43-.59-.52 0-1.04.2-1.43.59L10.3 9.45l-7.72 7.72c-.78.78-.78 2.05 0 2.83L4 21.41c.39.39.9.59 1.41.59.51 0 1.02-.2 1.41-.59l7.78-7.78 2.81-2.81c.8-.78.8-2.07 0-2.86zM5.41 20L4 18.59l7.72-7.72 1.47 1.35L5.41 20z\"/>\n",
              "  </svg>\n",
              "      </button>\n",
              "      \n",
              "  <style>\n",
              "    .colab-df-container {\n",
              "      display:flex;\n",
              "      flex-wrap:wrap;\n",
              "      gap: 12px;\n",
              "    }\n",
              "\n",
              "    .colab-df-convert {\n",
              "      background-color: #E8F0FE;\n",
              "      border: none;\n",
              "      border-radius: 50%;\n",
              "      cursor: pointer;\n",
              "      display: none;\n",
              "      fill: #1967D2;\n",
              "      height: 32px;\n",
              "      padding: 0 0 0 0;\n",
              "      width: 32px;\n",
              "    }\n",
              "\n",
              "    .colab-df-convert:hover {\n",
              "      background-color: #E2EBFA;\n",
              "      box-shadow: 0px 1px 2px rgba(60, 64, 67, 0.3), 0px 1px 3px 1px rgba(60, 64, 67, 0.15);\n",
              "      fill: #174EA6;\n",
              "    }\n",
              "\n",
              "    [theme=dark] .colab-df-convert {\n",
              "      background-color: #3B4455;\n",
              "      fill: #D2E3FC;\n",
              "    }\n",
              "\n",
              "    [theme=dark] .colab-df-convert:hover {\n",
              "      background-color: #434B5C;\n",
              "      box-shadow: 0px 1px 3px 1px rgba(0, 0, 0, 0.15);\n",
              "      filter: drop-shadow(0px 1px 2px rgba(0, 0, 0, 0.3));\n",
              "      fill: #FFFFFF;\n",
              "    }\n",
              "  </style>\n",
              "\n",
              "      <script>\n",
              "        const buttonEl =\n",
              "          document.querySelector('#df-936d8f0c-d317-4cda-b4b5-41f83bff4e20 button.colab-df-convert');\n",
              "        buttonEl.style.display =\n",
              "          google.colab.kernel.accessAllowed ? 'block' : 'none';\n",
              "\n",
              "        async function convertToInteractive(key) {\n",
              "          const element = document.querySelector('#df-936d8f0c-d317-4cda-b4b5-41f83bff4e20');\n",
              "          const dataTable =\n",
              "            await google.colab.kernel.invokeFunction('convertToInteractive',\n",
              "                                                     [key], {});\n",
              "          if (!dataTable) return;\n",
              "\n",
              "          const docLinkHtml = 'Like what you see? Visit the ' +\n",
              "            '<a target=\"_blank\" href=https://colab.research.google.com/notebooks/data_table.ipynb>data table notebook</a>'\n",
              "            + ' to learn more about interactive tables.';\n",
              "          element.innerHTML = '';\n",
              "          dataTable['output_type'] = 'display_data';\n",
              "          await google.colab.output.renderOutput(dataTable, element);\n",
              "          const docLink = document.createElement('div');\n",
              "          docLink.innerHTML = docLinkHtml;\n",
              "          element.appendChild(docLink);\n",
              "        }\n",
              "      </script>\n",
              "    </div>\n",
              "  </div>\n",
              "  "
            ]
          },
          "metadata": {},
          "execution_count": 15
        }
      ]
    },
    {
      "cell_type": "code",
      "execution_count": null,
      "metadata": {
        "colab": {
          "base_uri": "https://localhost:8080/"
        },
        "id": "ck9Mqr_TBVS_",
        "outputId": "b974ceff-1d65-4631-b096-13e6d990487a"
      },
      "outputs": [
        {
          "output_type": "execute_result",
          "data": {
            "text/plain": [
              "array(['Grocery Store', 'Supermarket Type1', 'Supermarket Type2',\n",
              "       'Supermarket Type3'], dtype=object)"
            ]
          },
          "metadata": {},
          "execution_count": 16
        }
      ],
      "source": [
        "#The different store types\n",
        "excel['Store_Type'].unique()"
      ]
    },
    {
      "cell_type": "code",
      "execution_count": null,
      "metadata": {
        "colab": {
          "base_uri": "https://localhost:8080/"
        },
        "id": "e52vEZpJBVS_",
        "outputId": "2ac5101a-4f35-4e4e-e233-d48b2ad32b7b"
      },
      "outputs": [
        {
          "output_type": "stream",
          "name": "stdout",
          "text": [
            "The item type that generally makes the most profit returns is Fruits and Vegetables\n"
          ]
        }
      ],
      "source": [
        "#item type with the highest profit index\n",
        "item_max = excel.groupby('Item_Type')['profit_index'].sum().idxmax()\n",
        "\n",
        "print('The item type that generally makes the most profit returns is', item_max)"
      ]
    },
    {
      "cell_type": "code",
      "execution_count": null,
      "metadata": {
        "colab": {
          "base_uri": "https://localhost:8080/"
        },
        "id": "NdVYOw5CBVTA",
        "outputId": "695acf3d-958f-4ab9-91b9-8e4531764dac"
      },
      "outputs": [
        {
          "output_type": "stream",
          "name": "stdout",
          "text": [
            "The store that makes the most profit is BABATUNJI027\n"
          ]
        }
      ],
      "source": [
        "#store with the highest profit index \n",
        "profit =excel.groupby('Store_ID')['profit_index'].sum().idxmax()\n",
        "\n",
        "print('The store that makes the most profit is', profit)"
      ]
    },
    {
      "cell_type": "code",
      "execution_count": null,
      "metadata": {
        "colab": {
          "base_uri": "https://localhost:8080/"
        },
        "id": "gbQiz8ZSBVTB",
        "outputId": "a60c290c-1658-440f-cc52-b0acfdf85b7d"
      },
      "outputs": [
        {
          "output_type": "stream",
          "name": "stdout",
          "text": [
            "BABATUNJI027 the store with the highest profit returns was opened in the year 1992\n"
          ]
        }
      ],
      "source": [
        " #year store with the highest profit index was opened \n",
        "year_opened = excel[excel['Store_ID']=='BABATUNJI027']\n",
        "year = year_opened['Store_Start_Year'].mode()[0]\n",
        "print('BABATUNJI027 the store with the highest profit returns was opened in the year', year)"
      ]
    },
    {
      "cell_type": "code",
      "execution_count": null,
      "metadata": {
        "colab": {
          "base_uri": "https://localhost:8080/"
        },
        "id": "dRv4ezkHBVTB",
        "outputId": "92560238-30a4-4344-8b6b-67c31a297965"
      },
      "outputs": [
        {
          "output_type": "stream",
          "name": "stdout",
          "text": [
            "BABATUNJI027 the store with the highest profit returns is located in Cluster 3\n"
          ]
        }
      ],
      "source": [
        "#location of store with the highest profit index\n",
        "loc = excel.groupby('Store_ID')['Store_Location_Type']\n",
        "loc1 =loc.describe().transpose()['BABATUNJI027']['top']\n",
        "print('BABATUNJI027 the store with the highest profit returns is located in', loc1)"
      ]
    },
    {
      "cell_type": "code",
      "execution_count": null,
      "metadata": {
        "colab": {
          "base_uri": "https://localhost:8080/"
        },
        "id": "6zqvD_d7BVTC",
        "outputId": "62a0233a-3efa-4b10-888c-13a4e3b1a343"
      },
      "outputs": [
        {
          "output_type": "stream",
          "name": "stdout",
          "text": [
            "BABATUNJI027 the store with the highest profit returns is a Supermarket Type3\n"
          ]
        }
      ],
      "source": [
        "#type of store with the highest profit index\n",
        "store = excel.groupby('Store_ID')['Store_Type']\n",
        "store1 =store.describe().transpose()['BABATUNJI027']['top']\n",
        "print('BABATUNJI027 the store with the highest profit returns is a', store1)"
      ]
    },
    {
      "cell_type": "markdown",
      "metadata": {
        "id": "7Gqs_SAcBVTC"
      },
      "source": [
        "BREAKDOWN OF PRODUCT SALES IN EACH CLUSTER"
      ]
    },
    {
      "cell_type": "code",
      "execution_count": null,
      "metadata": {
        "colab": {
          "base_uri": "https://localhost:8080/"
        },
        "id": "c6ucVD20BVTF",
        "outputId": "8888a846-cfde-4842-a74b-bf30a5b1a0a0"
      },
      "outputs": [
        {
          "output_type": "stream",
          "name": "stdout",
          "text": [
            "below is a breakdown of profit index of all products in cluster 1\n",
            " Item_Type\n",
            "Baking Goods              484890.35\n",
            "Breads                    164186.68\n",
            "Breakfast                  78460.28\n",
            "Canned                    508767.00\n",
            "Dairy                     401797.81\n",
            "Frozen Foods              559676.14\n",
            "Fruits and Vegetables    1042231.62\n",
            "Hard Drinks               171808.67\n",
            "Health and Hygiene        434673.68\n",
            "Household                 747692.88\n",
            "Meat                      352446.39\n",
            "Others                    154982.55\n",
            "Seafood                    56550.76\n",
            "Snack Foods              1047971.59\n",
            "Soft Drinks               334466.80\n",
            "Starchy Foods             134311.08\n",
            "Name: profit_index, dtype: float64\n"
          ]
        }
      ],
      "source": [
        "clust1 = excel[excel['Store_Location_Type'] == 'Cluster 1']\n",
        "brkdwn1 = clust1.groupby('Item_Type')['profit_index'].sum().round(2)\n",
        "\n",
        "print('below is a breakdown of profit index of all products in cluster 1\\n', brkdwn1)\n"
      ]
    },
    {
      "cell_type": "code",
      "execution_count": null,
      "metadata": {
        "colab": {
          "base_uri": "https://localhost:8080/"
        },
        "id": "buO7Luo5BVTG",
        "outputId": "ca4e355b-eb88-40e5-de4f-e78685c1cbfc"
      },
      "outputs": [
        {
          "output_type": "stream",
          "name": "stdout",
          "text": [
            "The most profitable product in Cluster 1 is Snack Foods\n"
          ]
        }
      ],
      "source": [
        "print(\"The most profitable product in Cluster 1 is\", brkdwn1.idxmax())"
      ]
    },
    {
      "cell_type": "code",
      "execution_count": null,
      "metadata": {
        "colab": {
          "base_uri": "https://localhost:8080/"
        },
        "id": "8QS8gTVuBVTH",
        "outputId": "fb3f4888-24a0-4707-d4b5-5f6a5112ec5d"
      },
      "outputs": [
        {
          "output_type": "stream",
          "name": "stdout",
          "text": [
            "Below is a breakdown of store in cluster 1 and their profit margin\n",
            "Store_ID\n",
            "BABATUNJI019     208344.10\n",
            "BABATUNJI046    2764376.52\n",
            "BABATUNJI049    3702193.66\n",
            "Name: profit_index, dtype: float64\n"
          ]
        }
      ],
      "source": [
        "stores1 = clust1.groupby('Store_ID')[\"profit_index\"].sum()\n",
        "print('Below is a breakdown of store in cluster 1 and their profit margin')\n",
        "print(round(stores1, 2))"
      ]
    },
    {
      "cell_type": "code",
      "execution_count": null,
      "metadata": {
        "colab": {
          "base_uri": "https://localhost:8080/"
        },
        "id": "PadJjNxLBVTH",
        "outputId": "ee323097-ab17-43a9-f223-8fa7f24ea101"
      },
      "outputs": [
        {
          "output_type": "execute_result",
          "data": {
            "text/plain": [
              "Store_Start_Year\n",
              "1992     208344.10\n",
              "2004    2764376.52\n",
              "2006    3702193.66\n",
              "Name: profit_index, dtype: float64"
            ]
          },
          "metadata": {},
          "execution_count": 24
        }
      ],
      "source": [
        "clust1.groupby('Store_Start_Year')['profit_index'].sum().round(2) \n",
        "#Is there a relationship between the year the store was opened and the profit index?"
      ]
    },
    {
      "cell_type": "code",
      "execution_count": null,
      "metadata": {
        "colab": {
          "base_uri": "https://localhost:8080/",
          "height": 175
        },
        "id": "zWj85GCdBVTI",
        "outputId": "ffe8b7a3-1614-4a00-a81d-4832933daeec"
      },
      "outputs": [
        {
          "output_type": "execute_result",
          "data": {
            "text/plain": [
              "                 count unique           top freq\n",
              "Store_Start_Year                                \n",
              "1992               340      1  BABATUNJI019  340\n",
              "2004               509      1  BABATUNJI046  509\n",
              "2006               620      1  BABATUNJI049  620"
            ],
            "text/html": [
              "\n",
              "  <div id=\"df-24647e88-609e-4a10-a8a9-a1bdad0a1a03\">\n",
              "    <div class=\"colab-df-container\">\n",
              "      <div>\n",
              "<style scoped>\n",
              "    .dataframe tbody tr th:only-of-type {\n",
              "        vertical-align: middle;\n",
              "    }\n",
              "\n",
              "    .dataframe tbody tr th {\n",
              "        vertical-align: top;\n",
              "    }\n",
              "\n",
              "    .dataframe thead th {\n",
              "        text-align: right;\n",
              "    }\n",
              "</style>\n",
              "<table border=\"1\" class=\"dataframe\">\n",
              "  <thead>\n",
              "    <tr style=\"text-align: right;\">\n",
              "      <th></th>\n",
              "      <th>count</th>\n",
              "      <th>unique</th>\n",
              "      <th>top</th>\n",
              "      <th>freq</th>\n",
              "    </tr>\n",
              "    <tr>\n",
              "      <th>Store_Start_Year</th>\n",
              "      <th></th>\n",
              "      <th></th>\n",
              "      <th></th>\n",
              "      <th></th>\n",
              "    </tr>\n",
              "  </thead>\n",
              "  <tbody>\n",
              "    <tr>\n",
              "      <th>1992</th>\n",
              "      <td>340</td>\n",
              "      <td>1</td>\n",
              "      <td>BABATUNJI019</td>\n",
              "      <td>340</td>\n",
              "    </tr>\n",
              "    <tr>\n",
              "      <th>2004</th>\n",
              "      <td>509</td>\n",
              "      <td>1</td>\n",
              "      <td>BABATUNJI046</td>\n",
              "      <td>509</td>\n",
              "    </tr>\n",
              "    <tr>\n",
              "      <th>2006</th>\n",
              "      <td>620</td>\n",
              "      <td>1</td>\n",
              "      <td>BABATUNJI049</td>\n",
              "      <td>620</td>\n",
              "    </tr>\n",
              "  </tbody>\n",
              "</table>\n",
              "</div>\n",
              "      <button class=\"colab-df-convert\" onclick=\"convertToInteractive('df-24647e88-609e-4a10-a8a9-a1bdad0a1a03')\"\n",
              "              title=\"Convert this dataframe to an interactive table.\"\n",
              "              style=\"display:none;\">\n",
              "        \n",
              "  <svg xmlns=\"http://www.w3.org/2000/svg\" height=\"24px\"viewBox=\"0 0 24 24\"\n",
              "       width=\"24px\">\n",
              "    <path d=\"M0 0h24v24H0V0z\" fill=\"none\"/>\n",
              "    <path d=\"M18.56 5.44l.94 2.06.94-2.06 2.06-.94-2.06-.94-.94-2.06-.94 2.06-2.06.94zm-11 1L8.5 8.5l.94-2.06 2.06-.94-2.06-.94L8.5 2.5l-.94 2.06-2.06.94zm10 10l.94 2.06.94-2.06 2.06-.94-2.06-.94-.94-2.06-.94 2.06-2.06.94z\"/><path d=\"M17.41 7.96l-1.37-1.37c-.4-.4-.92-.59-1.43-.59-.52 0-1.04.2-1.43.59L10.3 9.45l-7.72 7.72c-.78.78-.78 2.05 0 2.83L4 21.41c.39.39.9.59 1.41.59.51 0 1.02-.2 1.41-.59l7.78-7.78 2.81-2.81c.8-.78.8-2.07 0-2.86zM5.41 20L4 18.59l7.72-7.72 1.47 1.35L5.41 20z\"/>\n",
              "  </svg>\n",
              "      </button>\n",
              "      \n",
              "  <style>\n",
              "    .colab-df-container {\n",
              "      display:flex;\n",
              "      flex-wrap:wrap;\n",
              "      gap: 12px;\n",
              "    }\n",
              "\n",
              "    .colab-df-convert {\n",
              "      background-color: #E8F0FE;\n",
              "      border: none;\n",
              "      border-radius: 50%;\n",
              "      cursor: pointer;\n",
              "      display: none;\n",
              "      fill: #1967D2;\n",
              "      height: 32px;\n",
              "      padding: 0 0 0 0;\n",
              "      width: 32px;\n",
              "    }\n",
              "\n",
              "    .colab-df-convert:hover {\n",
              "      background-color: #E2EBFA;\n",
              "      box-shadow: 0px 1px 2px rgba(60, 64, 67, 0.3), 0px 1px 3px 1px rgba(60, 64, 67, 0.15);\n",
              "      fill: #174EA6;\n",
              "    }\n",
              "\n",
              "    [theme=dark] .colab-df-convert {\n",
              "      background-color: #3B4455;\n",
              "      fill: #D2E3FC;\n",
              "    }\n",
              "\n",
              "    [theme=dark] .colab-df-convert:hover {\n",
              "      background-color: #434B5C;\n",
              "      box-shadow: 0px 1px 3px 1px rgba(0, 0, 0, 0.15);\n",
              "      filter: drop-shadow(0px 1px 2px rgba(0, 0, 0, 0.3));\n",
              "      fill: #FFFFFF;\n",
              "    }\n",
              "  </style>\n",
              "\n",
              "      <script>\n",
              "        const buttonEl =\n",
              "          document.querySelector('#df-24647e88-609e-4a10-a8a9-a1bdad0a1a03 button.colab-df-convert');\n",
              "        buttonEl.style.display =\n",
              "          google.colab.kernel.accessAllowed ? 'block' : 'none';\n",
              "\n",
              "        async function convertToInteractive(key) {\n",
              "          const element = document.querySelector('#df-24647e88-609e-4a10-a8a9-a1bdad0a1a03');\n",
              "          const dataTable =\n",
              "            await google.colab.kernel.invokeFunction('convertToInteractive',\n",
              "                                                     [key], {});\n",
              "          if (!dataTable) return;\n",
              "\n",
              "          const docLinkHtml = 'Like what you see? Visit the ' +\n",
              "            '<a target=\"_blank\" href=https://colab.research.google.com/notebooks/data_table.ipynb>data table notebook</a>'\n",
              "            + ' to learn more about interactive tables.';\n",
              "          element.innerHTML = '';\n",
              "          dataTable['output_type'] = 'display_data';\n",
              "          await google.colab.output.renderOutput(dataTable, element);\n",
              "          const docLink = document.createElement('div');\n",
              "          docLink.innerHTML = docLinkHtml;\n",
              "          element.appendChild(docLink);\n",
              "        }\n",
              "      </script>\n",
              "    </div>\n",
              "  </div>\n",
              "  "
            ]
          },
          "metadata": {},
          "execution_count": 25
        }
      ],
      "source": [
        "#Year each store started\n",
        "clust1.groupby('Store_Start_Year')['Store_ID'].describe()\n"
      ]
    },
    {
      "cell_type": "code",
      "execution_count": null,
      "metadata": {
        "colab": {
          "base_uri": "https://localhost:8080/"
        },
        "id": "7s-ZLlTjBVTJ",
        "outputId": "67e0ec90-deb5-4ecb-cdac-baf923653a7c"
      },
      "outputs": [
        {
          "output_type": "execute_result",
          "data": {
            "text/plain": [
              "Store_Start_Year\n",
              "1992    5792006.75\n",
              "1994    2255853.43\n",
              "2004    2764376.52\n",
              "2005     136404.22\n",
              "2006    3702193.66\n",
              "2009    3340768.52\n",
              "2011    3821551.36\n",
              "2014    4110849.15\n",
              "2016    2577461.07\n",
              "Name: profit_index, dtype: float64"
            ]
          },
          "metadata": {},
          "execution_count": 27
        }
      ],
      "source": [
        "excel.groupby('Store_Start_Year')['profit_index'].sum().round(2)"
      ]
    },
    {
      "cell_type": "code",
      "execution_count": null,
      "metadata": {
        "colab": {
          "base_uri": "https://localhost:8080/"
        },
        "id": "TeECzop9BVTJ",
        "outputId": "e55a05a8-c967-424a-c73d-0799cedefefa"
      },
      "outputs": [
        {
          "output_type": "stream",
          "name": "stdout",
          "text": [
            "below is a breakdown of profit index of all products in cluster 2\n",
            "\n",
            "Item_Type\n",
            "Baking Goods              651315.80\n",
            "Breads                    296514.37\n",
            "Breakfast                 148912.81\n",
            "Canned                    908212.58\n",
            "Dairy                     890996.17\n",
            "Frozen Foods             1089012.93\n",
            "Fruits and Vegetables    1719603.22\n",
            "Hard Drinks               299245.76\n",
            "Health and Hygiene        557319.65\n",
            "Household                1317753.46\n",
            "Meat                      513740.10\n",
            "Others                    203100.03\n",
            "Seafood                   110502.90\n",
            "Snack Foods              1725836.38\n",
            "Soft Drinks               593000.13\n",
            "Starchy Foods             248102.74\n",
            "Name: profit_index, dtype: float64\n"
          ]
        }
      ],
      "source": [
        "clust2 = excel[excel['Store_Location_Type'] == 'Cluster 2']\n",
        "brkdwn2 = clust2.groupby('Item_Type')['profit_index'].sum()\n",
        "\n",
        "print('below is a breakdown of profit index of all products in cluster 2\\n')\n",
        "print(round(brkdwn2, 2))"
      ]
    },
    {
      "cell_type": "code",
      "execution_count": null,
      "metadata": {
        "colab": {
          "base_uri": "https://localhost:8080/"
        },
        "id": "xCf4PkVcBVTK",
        "outputId": "4612ad95-7ca6-429a-ebfd-d6c9b03aa2d2"
      },
      "outputs": [
        {
          "output_type": "stream",
          "name": "stdout",
          "text": [
            "The most profitable product in Cluster 2 is Snack Foods\n"
          ]
        }
      ],
      "source": [
        " print(\"The most profitable product in Cluster 2 is\", brkdwn2.idxmax())"
      ]
    },
    {
      "cell_type": "code",
      "execution_count": null,
      "metadata": {
        "colab": {
          "base_uri": "https://localhost:8080/"
        },
        "id": "wlLbYryiBVTL",
        "outputId": "9f88e740-5331-49e1-ccc5-4708de92aa66"
      },
      "outputs": [
        {
          "output_type": "stream",
          "name": "stdout",
          "text": [
            "Below is a breakdown of store in cluster 2 and their profit margin\n",
            "Store_ID\n",
            "BABATUNJI017    4110849.15\n",
            "BABATUNJI035    3821551.36\n",
            "BABATUNJI045    3340768.52\n",
            "Name: profit_index, dtype: float64\n"
          ]
        }
      ],
      "source": [
        "stores2 = clust2.groupby('Store_ID')[\"profit_index\"].sum()\n",
        "print('Below is a breakdown of store in cluster 2 and their profit margin')\n",
        "print(round(stores2, 2))"
      ]
    },
    {
      "cell_type": "code",
      "execution_count": null,
      "metadata": {
        "colab": {
          "base_uri": "https://localhost:8080/"
        },
        "id": "zmtn5nkgBVTL",
        "outputId": "6412c4ea-ff8c-411c-cc48-2dbc24bdde2b"
      },
      "outputs": [
        {
          "output_type": "execute_result",
          "data": {
            "text/plain": [
              "Store_Start_Year\n",
              "2009    3340768.52\n",
              "2011    3821551.36\n",
              "2014    4110849.15\n",
              "Name: profit_index, dtype: float64"
            ]
          },
          "metadata": {},
          "execution_count": 31
        }
      ],
      "source": [
        " clust2.groupby('Store_Start_Year')['profit_index'].sum().round(2) \n",
        "#Is there a relationship between the year the store was opened and the profit index?"
      ]
    },
    {
      "cell_type": "code",
      "execution_count": null,
      "metadata": {
        "colab": {
          "base_uri": "https://localhost:8080/",
          "height": 175
        },
        "id": "FfRauddoBVTL",
        "outputId": "ae3f681b-cadd-4e09-a25c-8c0c7d6ee532"
      },
      "outputs": [
        {
          "output_type": "execute_result",
          "data": {
            "text/plain": [
              "                 count unique           top freq\n",
              "Store_Start_Year                                \n",
              "2009               483      1  BABATUNJI045  483\n",
              "2011               515      1  BABATUNJI035  515\n",
              "2014               583      1  BABATUNJI017  583"
            ],
            "text/html": [
              "\n",
              "  <div id=\"df-24e75a10-f095-4537-86f8-4a0139b76490\">\n",
              "    <div class=\"colab-df-container\">\n",
              "      <div>\n",
              "<style scoped>\n",
              "    .dataframe tbody tr th:only-of-type {\n",
              "        vertical-align: middle;\n",
              "    }\n",
              "\n",
              "    .dataframe tbody tr th {\n",
              "        vertical-align: top;\n",
              "    }\n",
              "\n",
              "    .dataframe thead th {\n",
              "        text-align: right;\n",
              "    }\n",
              "</style>\n",
              "<table border=\"1\" class=\"dataframe\">\n",
              "  <thead>\n",
              "    <tr style=\"text-align: right;\">\n",
              "      <th></th>\n",
              "      <th>count</th>\n",
              "      <th>unique</th>\n",
              "      <th>top</th>\n",
              "      <th>freq</th>\n",
              "    </tr>\n",
              "    <tr>\n",
              "      <th>Store_Start_Year</th>\n",
              "      <th></th>\n",
              "      <th></th>\n",
              "      <th></th>\n",
              "      <th></th>\n",
              "    </tr>\n",
              "  </thead>\n",
              "  <tbody>\n",
              "    <tr>\n",
              "      <th>2009</th>\n",
              "      <td>483</td>\n",
              "      <td>1</td>\n",
              "      <td>BABATUNJI045</td>\n",
              "      <td>483</td>\n",
              "    </tr>\n",
              "    <tr>\n",
              "      <th>2011</th>\n",
              "      <td>515</td>\n",
              "      <td>1</td>\n",
              "      <td>BABATUNJI035</td>\n",
              "      <td>515</td>\n",
              "    </tr>\n",
              "    <tr>\n",
              "      <th>2014</th>\n",
              "      <td>583</td>\n",
              "      <td>1</td>\n",
              "      <td>BABATUNJI017</td>\n",
              "      <td>583</td>\n",
              "    </tr>\n",
              "  </tbody>\n",
              "</table>\n",
              "</div>\n",
              "      <button class=\"colab-df-convert\" onclick=\"convertToInteractive('df-24e75a10-f095-4537-86f8-4a0139b76490')\"\n",
              "              title=\"Convert this dataframe to an interactive table.\"\n",
              "              style=\"display:none;\">\n",
              "        \n",
              "  <svg xmlns=\"http://www.w3.org/2000/svg\" height=\"24px\"viewBox=\"0 0 24 24\"\n",
              "       width=\"24px\">\n",
              "    <path d=\"M0 0h24v24H0V0z\" fill=\"none\"/>\n",
              "    <path d=\"M18.56 5.44l.94 2.06.94-2.06 2.06-.94-2.06-.94-.94-2.06-.94 2.06-2.06.94zm-11 1L8.5 8.5l.94-2.06 2.06-.94-2.06-.94L8.5 2.5l-.94 2.06-2.06.94zm10 10l.94 2.06.94-2.06 2.06-.94-2.06-.94-.94-2.06-.94 2.06-2.06.94z\"/><path d=\"M17.41 7.96l-1.37-1.37c-.4-.4-.92-.59-1.43-.59-.52 0-1.04.2-1.43.59L10.3 9.45l-7.72 7.72c-.78.78-.78 2.05 0 2.83L4 21.41c.39.39.9.59 1.41.59.51 0 1.02-.2 1.41-.59l7.78-7.78 2.81-2.81c.8-.78.8-2.07 0-2.86zM5.41 20L4 18.59l7.72-7.72 1.47 1.35L5.41 20z\"/>\n",
              "  </svg>\n",
              "      </button>\n",
              "      \n",
              "  <style>\n",
              "    .colab-df-container {\n",
              "      display:flex;\n",
              "      flex-wrap:wrap;\n",
              "      gap: 12px;\n",
              "    }\n",
              "\n",
              "    .colab-df-convert {\n",
              "      background-color: #E8F0FE;\n",
              "      border: none;\n",
              "      border-radius: 50%;\n",
              "      cursor: pointer;\n",
              "      display: none;\n",
              "      fill: #1967D2;\n",
              "      height: 32px;\n",
              "      padding: 0 0 0 0;\n",
              "      width: 32px;\n",
              "    }\n",
              "\n",
              "    .colab-df-convert:hover {\n",
              "      background-color: #E2EBFA;\n",
              "      box-shadow: 0px 1px 2px rgba(60, 64, 67, 0.3), 0px 1px 3px 1px rgba(60, 64, 67, 0.15);\n",
              "      fill: #174EA6;\n",
              "    }\n",
              "\n",
              "    [theme=dark] .colab-df-convert {\n",
              "      background-color: #3B4455;\n",
              "      fill: #D2E3FC;\n",
              "    }\n",
              "\n",
              "    [theme=dark] .colab-df-convert:hover {\n",
              "      background-color: #434B5C;\n",
              "      box-shadow: 0px 1px 3px 1px rgba(0, 0, 0, 0.15);\n",
              "      filter: drop-shadow(0px 1px 2px rgba(0, 0, 0, 0.3));\n",
              "      fill: #FFFFFF;\n",
              "    }\n",
              "  </style>\n",
              "\n",
              "      <script>\n",
              "        const buttonEl =\n",
              "          document.querySelector('#df-24e75a10-f095-4537-86f8-4a0139b76490 button.colab-df-convert');\n",
              "        buttonEl.style.display =\n",
              "          google.colab.kernel.accessAllowed ? 'block' : 'none';\n",
              "\n",
              "        async function convertToInteractive(key) {\n",
              "          const element = document.querySelector('#df-24e75a10-f095-4537-86f8-4a0139b76490');\n",
              "          const dataTable =\n",
              "            await google.colab.kernel.invokeFunction('convertToInteractive',\n",
              "                                                     [key], {});\n",
              "          if (!dataTable) return;\n",
              "\n",
              "          const docLinkHtml = 'Like what you see? Visit the ' +\n",
              "            '<a target=\"_blank\" href=https://colab.research.google.com/notebooks/data_table.ipynb>data table notebook</a>'\n",
              "            + ' to learn more about interactive tables.';\n",
              "          element.innerHTML = '';\n",
              "          dataTable['output_type'] = 'display_data';\n",
              "          await google.colab.output.renderOutput(dataTable, element);\n",
              "          const docLink = document.createElement('div');\n",
              "          docLink.innerHTML = docLinkHtml;\n",
              "          element.appendChild(docLink);\n",
              "        }\n",
              "      </script>\n",
              "    </div>\n",
              "  </div>\n",
              "  "
            ]
          },
          "metadata": {},
          "execution_count": 32
        }
      ],
      "source": [
        "#Year each store started\n",
        "clust2.groupby('Store_Start_Year')['Store_ID'].describe()\n"
      ]
    },
    {
      "cell_type": "code",
      "execution_count": null,
      "metadata": {
        "colab": {
          "base_uri": "https://localhost:8080/"
        },
        "id": "rAglGVRjBVTM",
        "outputId": "837db1d9-eb26-42cf-9c2b-e515a2f55081"
      },
      "outputs": [
        {
          "output_type": "stream",
          "name": "stdout",
          "text": [
            "below is a breakdown of profit index of all products in cluster 3\n",
            "\n",
            "Item_Type\n",
            "Baking Goods              682412.96\n",
            "Breads                    320218.67\n",
            "Breakfast                 150215.16\n",
            "Canned                    769814.88\n",
            "Dairy                     736984.29\n",
            "Frozen Foods              924878.37\n",
            "Fruits and Vegetables    1694354.51\n",
            "Hard Drinks               283565.13\n",
            "Health and Hygiene        552501.76\n",
            "Household                1196466.42\n",
            "Meat                      636766.36\n",
            "Others                    159390.90\n",
            "Seafood                    79024.74\n",
            "Snack Foods              1670838.19\n",
            "Soft Drinks               544595.62\n",
            "Starchy Foods             151353.41\n",
            "Name: profit_index, dtype: float64\n"
          ]
        }
      ],
      "source": [
        "clust3 = excel[excel['Store_Location_Type'] == 'Cluster 3']\n",
        "brkdwn3 = clust3.groupby('Item_Type')['profit_index'].sum()\n",
        "\n",
        "print('below is a breakdown of profit index of all products in cluster 3\\n')\n",
        "print(round(brkdwn3, 2))"
      ]
    },
    {
      "cell_type": "code",
      "execution_count": null,
      "metadata": {
        "colab": {
          "base_uri": "https://localhost:8080/"
        },
        "id": "ujbG3NNCBVTM",
        "outputId": "05863d02-f8ac-44b0-e316-c4ef293f6139"
      },
      "outputs": [
        {
          "output_type": "stream",
          "name": "stdout",
          "text": [
            "The most profitable product in Cluster 3 is Fruits and Vegetables\n"
          ]
        }
      ],
      "source": [
        " print(\"The most profitable product in Cluster 3 is\", brkdwn3.idxmax())"
      ]
    },
    {
      "cell_type": "code",
      "execution_count": null,
      "metadata": {
        "colab": {
          "base_uri": "https://localhost:8080/"
        },
        "id": "diWL_rhaBVTM",
        "outputId": "219fe79a-cd9a-440c-9c0d-e6a36e97f4ec"
      },
      "outputs": [
        {
          "output_type": "stream",
          "name": "stdout",
          "text": [
            "Below is a breakdown of store in cluster 3 and their profit margin\n",
            "Store_ID\n",
            "BABATUNJI010     136404.22\n",
            "BABATUNJI013    2255853.43\n",
            "BABATUNJI018    2577461.07\n",
            "BABATUNJI027    5583662.65\n",
            "Name: profit_index, dtype: float64\n"
          ]
        }
      ],
      "source": [
        "stores3 = clust3.groupby('Store_ID')[\"profit_index\"].sum()\n",
        "print('Below is a breakdown of store in cluster 3 and their profit margin')\n",
        "print(round(stores3, 2))"
      ]
    },
    {
      "cell_type": "code",
      "execution_count": null,
      "metadata": {
        "colab": {
          "base_uri": "https://localhost:8080/"
        },
        "id": "Q5hl-VlFBVTN",
        "outputId": "4311a517-66aa-4762-9c60-284530dd24e9"
      },
      "outputs": [
        {
          "output_type": "execute_result",
          "data": {
            "text/plain": [
              "Store_Start_Year\n",
              "1992    5583662.65\n",
              "1994    2255853.43\n",
              "2005     136404.22\n",
              "2016    2577461.07\n",
              "Name: profit_index, dtype: float64"
            ]
          },
          "metadata": {},
          "execution_count": 37
        }
      ],
      "source": [
        "clust3.groupby('Store_Start_Year')['profit_index'].sum().round(2) \n",
        "#Is there a relationship between the year the store was opened and the profit index?"
      ]
    },
    {
      "cell_type": "code",
      "execution_count": null,
      "metadata": {
        "colab": {
          "base_uri": "https://localhost:8080/",
          "height": 206
        },
        "id": "pF4v-ODjBVTN",
        "outputId": "3f72e8d5-e30a-4f46-b852-17a52e01af1b"
      },
      "outputs": [
        {
          "output_type": "execute_result",
          "data": {
            "text/plain": [
              "                 count unique           top freq\n",
              "Store_Start_Year                                \n",
              "1992               462      1  BABATUNJI027  462\n",
              "1994               594      1  BABATUNJI013  594\n",
              "2005               384      1  BABATUNJI010  384\n",
              "2016               500      1  BABATUNJI018  500"
            ],
            "text/html": [
              "\n",
              "  <div id=\"df-453a179e-67c4-449d-8337-6e070f881fb0\">\n",
              "    <div class=\"colab-df-container\">\n",
              "      <div>\n",
              "<style scoped>\n",
              "    .dataframe tbody tr th:only-of-type {\n",
              "        vertical-align: middle;\n",
              "    }\n",
              "\n",
              "    .dataframe tbody tr th {\n",
              "        vertical-align: top;\n",
              "    }\n",
              "\n",
              "    .dataframe thead th {\n",
              "        text-align: right;\n",
              "    }\n",
              "</style>\n",
              "<table border=\"1\" class=\"dataframe\">\n",
              "  <thead>\n",
              "    <tr style=\"text-align: right;\">\n",
              "      <th></th>\n",
              "      <th>count</th>\n",
              "      <th>unique</th>\n",
              "      <th>top</th>\n",
              "      <th>freq</th>\n",
              "    </tr>\n",
              "    <tr>\n",
              "      <th>Store_Start_Year</th>\n",
              "      <th></th>\n",
              "      <th></th>\n",
              "      <th></th>\n",
              "      <th></th>\n",
              "    </tr>\n",
              "  </thead>\n",
              "  <tbody>\n",
              "    <tr>\n",
              "      <th>1992</th>\n",
              "      <td>462</td>\n",
              "      <td>1</td>\n",
              "      <td>BABATUNJI027</td>\n",
              "      <td>462</td>\n",
              "    </tr>\n",
              "    <tr>\n",
              "      <th>1994</th>\n",
              "      <td>594</td>\n",
              "      <td>1</td>\n",
              "      <td>BABATUNJI013</td>\n",
              "      <td>594</td>\n",
              "    </tr>\n",
              "    <tr>\n",
              "      <th>2005</th>\n",
              "      <td>384</td>\n",
              "      <td>1</td>\n",
              "      <td>BABATUNJI010</td>\n",
              "      <td>384</td>\n",
              "    </tr>\n",
              "    <tr>\n",
              "      <th>2016</th>\n",
              "      <td>500</td>\n",
              "      <td>1</td>\n",
              "      <td>BABATUNJI018</td>\n",
              "      <td>500</td>\n",
              "    </tr>\n",
              "  </tbody>\n",
              "</table>\n",
              "</div>\n",
              "      <button class=\"colab-df-convert\" onclick=\"convertToInteractive('df-453a179e-67c4-449d-8337-6e070f881fb0')\"\n",
              "              title=\"Convert this dataframe to an interactive table.\"\n",
              "              style=\"display:none;\">\n",
              "        \n",
              "  <svg xmlns=\"http://www.w3.org/2000/svg\" height=\"24px\"viewBox=\"0 0 24 24\"\n",
              "       width=\"24px\">\n",
              "    <path d=\"M0 0h24v24H0V0z\" fill=\"none\"/>\n",
              "    <path d=\"M18.56 5.44l.94 2.06.94-2.06 2.06-.94-2.06-.94-.94-2.06-.94 2.06-2.06.94zm-11 1L8.5 8.5l.94-2.06 2.06-.94-2.06-.94L8.5 2.5l-.94 2.06-2.06.94zm10 10l.94 2.06.94-2.06 2.06-.94-2.06-.94-.94-2.06-.94 2.06-2.06.94z\"/><path d=\"M17.41 7.96l-1.37-1.37c-.4-.4-.92-.59-1.43-.59-.52 0-1.04.2-1.43.59L10.3 9.45l-7.72 7.72c-.78.78-.78 2.05 0 2.83L4 21.41c.39.39.9.59 1.41.59.51 0 1.02-.2 1.41-.59l7.78-7.78 2.81-2.81c.8-.78.8-2.07 0-2.86zM5.41 20L4 18.59l7.72-7.72 1.47 1.35L5.41 20z\"/>\n",
              "  </svg>\n",
              "      </button>\n",
              "      \n",
              "  <style>\n",
              "    .colab-df-container {\n",
              "      display:flex;\n",
              "      flex-wrap:wrap;\n",
              "      gap: 12px;\n",
              "    }\n",
              "\n",
              "    .colab-df-convert {\n",
              "      background-color: #E8F0FE;\n",
              "      border: none;\n",
              "      border-radius: 50%;\n",
              "      cursor: pointer;\n",
              "      display: none;\n",
              "      fill: #1967D2;\n",
              "      height: 32px;\n",
              "      padding: 0 0 0 0;\n",
              "      width: 32px;\n",
              "    }\n",
              "\n",
              "    .colab-df-convert:hover {\n",
              "      background-color: #E2EBFA;\n",
              "      box-shadow: 0px 1px 2px rgba(60, 64, 67, 0.3), 0px 1px 3px 1px rgba(60, 64, 67, 0.15);\n",
              "      fill: #174EA6;\n",
              "    }\n",
              "\n",
              "    [theme=dark] .colab-df-convert {\n",
              "      background-color: #3B4455;\n",
              "      fill: #D2E3FC;\n",
              "    }\n",
              "\n",
              "    [theme=dark] .colab-df-convert:hover {\n",
              "      background-color: #434B5C;\n",
              "      box-shadow: 0px 1px 3px 1px rgba(0, 0, 0, 0.15);\n",
              "      filter: drop-shadow(0px 1px 2px rgba(0, 0, 0, 0.3));\n",
              "      fill: #FFFFFF;\n",
              "    }\n",
              "  </style>\n",
              "\n",
              "      <script>\n",
              "        const buttonEl =\n",
              "          document.querySelector('#df-453a179e-67c4-449d-8337-6e070f881fb0 button.colab-df-convert');\n",
              "        buttonEl.style.display =\n",
              "          google.colab.kernel.accessAllowed ? 'block' : 'none';\n",
              "\n",
              "        async function convertToInteractive(key) {\n",
              "          const element = document.querySelector('#df-453a179e-67c4-449d-8337-6e070f881fb0');\n",
              "          const dataTable =\n",
              "            await google.colab.kernel.invokeFunction('convertToInteractive',\n",
              "                                                     [key], {});\n",
              "          if (!dataTable) return;\n",
              "\n",
              "          const docLinkHtml = 'Like what you see? Visit the ' +\n",
              "            '<a target=\"_blank\" href=https://colab.research.google.com/notebooks/data_table.ipynb>data table notebook</a>'\n",
              "            + ' to learn more about interactive tables.';\n",
              "          element.innerHTML = '';\n",
              "          dataTable['output_type'] = 'display_data';\n",
              "          await google.colab.output.renderOutput(dataTable, element);\n",
              "          const docLink = document.createElement('div');\n",
              "          docLink.innerHTML = docLinkHtml;\n",
              "          element.appendChild(docLink);\n",
              "        }\n",
              "      </script>\n",
              "    </div>\n",
              "  </div>\n",
              "  "
            ]
          },
          "metadata": {},
          "execution_count": 38
        }
      ],
      "source": [
        "#Year each store started\n",
        "clust3.groupby('Store_Start_Year')['Store_ID'].describe()\n"
      ]
    },
    {
      "cell_type": "markdown",
      "metadata": {
        "id": "nMsiT9ROBVTN"
      },
      "source": [
        "A BREAKDOWN OF ALL PRODUCTS IN THE MOST PROFITABLE STORE"
      ]
    },
    {
      "cell_type": "code",
      "execution_count": null,
      "metadata": {
        "id": "tko9a805BVTO",
        "colab": {
          "base_uri": "https://localhost:8080/"
        },
        "outputId": "a71f54e6-65ba-49b6-991f-9fd49b43b853"
      },
      "outputs": [
        {
          "output_type": "stream",
          "name": "stdout",
          "text": [
            "Item_Type\n",
            "Baking Goods             317049.40\n",
            "Breads                   160366.64\n",
            "Breakfast                100430.80\n",
            "Canned                   436467.46\n",
            "Dairy                    435295.00\n",
            "Frozen Foods             504768.95\n",
            "Fruits and Vegetables    962146.33\n",
            "Hard Drinks              143859.68\n",
            "Health and Hygiene       246775.65\n",
            "Household                660313.27\n",
            "Meat                     376935.41\n",
            "Others                    39319.82\n",
            "Seafood                   34531.58\n",
            "Snack Foods              827103.84\n",
            "Soft Drinks              251741.24\n",
            "Starchy Foods             86557.58\n",
            "Name: profit_index, dtype: float64\n"
          ]
        }
      ],
      "source": [
        "b027 =excel[excel['Store_ID'] == 'BABATUNJI027']\n",
        "babamax =b027.groupby('Item_Type')['profit_index'].sum().round(2)\n",
        "print(babamax)"
      ]
    },
    {
      "cell_type": "code",
      "execution_count": null,
      "metadata": {
        "colab": {
          "base_uri": "https://localhost:8080/"
        },
        "id": "3Fe5yCj5BVTO",
        "outputId": "ec61000e-805e-461b-e786-ee46885d6c9c"
      },
      "outputs": [
        {
          "output_type": "stream",
          "name": "stdout",
          "text": [
            "the most profitable item in BABATUNJI027 store is Fruits and Vegetables\n"
          ]
        }
      ],
      "source": [
        "print('the most profitable item in BABATUNJI027 store is', babamax.idxmax())"
      ]
    },
    {
      "cell_type": "code",
      "execution_count": null,
      "metadata": {
        "id": "pcoNUE9FBVTO"
      },
      "outputs": [],
      "source": [
        " "
      ]
    },
    {
      "cell_type": "code",
      "execution_count": null,
      "metadata": {
        "id": "Nay7P0yiBVTO"
      },
      "outputs": [],
      "source": [
        ""
      ]
    },
    {
      "cell_type": "code",
      "execution_count": null,
      "metadata": {
        "id": "8DdtvxNOBVTO"
      },
      "outputs": [],
      "source": [
        ""
      ]
    }
  ],
  "metadata": {
    "kernelspec": {
      "display_name": "Python 3",
      "language": "python",
      "name": "python3"
    },
    "language_info": {
      "codemirror_mode": {
        "name": "ipython",
        "version": 3
      },
      "file_extension": ".py",
      "mimetype": "text/x-python",
      "name": "python",
      "nbconvert_exporter": "python",
      "pygments_lexer": "ipython3",
      "version": "3.6.5"
    },
    "colab": {
      "name": "Excellent_Stores_Analysis.ipynb",
      "provenance": []
    }
  },
  "nbformat": 4,
  "nbformat_minor": 0
}